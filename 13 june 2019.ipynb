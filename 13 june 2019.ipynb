{
 "cells": [
  {
   "cell_type": "code",
   "execution_count": 29,
   "metadata": {},
   "outputs": [
    {
     "name": "stdout",
     "output_type": "stream",
     "text": [
      "500 502 504 506 508 510 512 514 516 518 520 522 524 "
     ]
    }
   ],
   "source": [
    "#fUNCTIONS TO PRINT THE ALTERATE VALUES IN A RANGE\n",
    "#[500,550] -> 500 502 504...........550\n",
    "#[500,550]-> 501 503 505............549\n",
    "#range(500, 550) -> 500 501 502.......549 last value is exclusive\n",
    "# All set based functions in python have start value and end value # lu- lower bound, ub- upper bound\n",
    "\n",
    "def alternateValues(start, end):\n",
    "    for value in range(start, end+1, 2):\n",
    "        print(value, end=\" \")\n",
    "        \n",
    "    return\n",
    "    \n",
    "alternateValues(500, 525)"
   ]
  },
  {
   "cell_type": "code",
   "execution_count": 31,
   "metadata": {},
   "outputs": [
    {
     "name": "stdout",
     "output_type": "stream",
     "text": [
      "10 9 8 7 6 5 4 3 2 1 "
     ]
    }
   ],
   "source": [
    "# Function to print reverse of given in the range\n",
    "\n",
    "def reverseRange(start, end):\n",
    "    for value in range(end, start-1, -1):\n",
    "        print(value, end=\" \")\n",
    "    return\n",
    "reverseRange(1, 10)\n",
    "        "
   ]
  },
  {
   "cell_type": "code",
   "execution_count": null,
   "metadata": {},
   "outputs": [],
   "source": []
  },
  {
   "cell_type": "code",
   "execution_count": 46,
   "metadata": {},
   "outputs": [
    {
     "name": "stdout",
     "output_type": "stream",
     "text": [
      "19 17 15 13 11 9 7 5 3 1 "
     ]
    }
   ],
   "source": [
    "# Function to print the odd number in reverse order in a range\n",
    "\n",
    "def oddNumber(start, end):\n",
    "    for value in range(end, start-1, -1):\n",
    "        if value %2 !=0:\n",
    "            print(value, end=\" \")\n",
    "    return\n",
    "    \n",
    "oddNumber(1, 20)"
   ]
  },
  {
   "cell_type": "code",
   "execution_count": 49,
   "metadata": {},
   "outputs": [
    {
     "ename": "SyntaxError",
     "evalue": "invalid syntax (<ipython-input-49-c9a3cc702ed2>, line 5)",
     "output_type": "error",
     "traceback": [
      "\u001b[1;36m  File \u001b[1;32m\"<ipython-input-49-c9a3cc702ed2>\"\u001b[1;36m, line \u001b[1;32m5\u001b[0m\n\u001b[1;33m    if value %6 !=0\u001b[0m\n\u001b[1;37m                   ^\u001b[0m\n\u001b[1;31mSyntaxError\u001b[0m\u001b[1;31m:\u001b[0m invalid syntax\n"
     ]
    }
   ],
   "source": [
    "# Function to print all numbers divisible by 6\n",
    "\n",
    "def allnumbers(lb, ub):\n",
    "    for value in range(lb, ub+1):\n",
    "        sum = sum + value\n",
    "        print(value, end=\" \")\n",
    "    return\n",
    "allnumbers(1, 70)"
   ]
  },
  {
   "cell_type": "code",
   "execution_count": 52,
   "metadata": {},
   "outputs": [
    {
     "data": {
      "text/plain": [
       "15150"
      ]
     },
     "execution_count": 52,
     "metadata": {},
     "output_type": "execute_result"
    }
   ],
   "source": [
    "# Function to calculate the sum of numbers in a range\n",
    "\n",
    "def sumrange(start, end):\n",
    "    sum = 0\n",
    "    for i in range(start, end+1):\n",
    "        sum = sum + i\n",
    "        \n",
    "    return sum\n",
    "\n",
    "sumrange(100, 200)"
   ]
  },
  {
   "cell_type": "code",
   "execution_count": 58,
   "metadata": {},
   "outputs": [
    {
     "data": {
      "text/plain": [
       "3000.75"
      ]
     },
     "execution_count": 58,
     "metadata": {},
     "output_type": "execute_result"
    }
   ],
   "source": [
    "# function to calculate the average of a given range\n",
    "#(1, 5) -> 3 \n",
    "\n",
    "def averagerange(start, end):\n",
    "    sum = 0\n",
    "    #count = 0\n",
    "    for i in range(start, end+1):\n",
    "        sum = sum + i #sum calculation\n",
    "        #count = count + 1 # counting number of value\n",
    "        \n",
    "    return sum/(end-start)\n",
    "    \n",
    "averagerange(1000, 5000)"
   ]
  },
  {
   "cell_type": "code",
   "execution_count": 81,
   "metadata": {},
   "outputs": [
    {
     "name": "stdout",
     "output_type": "stream",
     "text": [
      "1956 1960 1964 1968 1972 1976 1980 1984 1988 1992 1996 2000 2004 2008 2012 2016 2020 "
     ]
    }
   ],
   "source": [
    "# function to generate the leap years in a given time period\n",
    "# {2000, 2020] - > 2000 2004 2008 2012 2016 2020\n",
    "\n",
    "def isleapyear(year):          # To check if a given year is a leap year\n",
    "    if year % 400 == 0 or (year % 100 !=0 and year % 4 == 0):       # is a boolean value\n",
    "        return True\n",
    "    return False\n",
    "\n",
    "def generateleapyears(startyear, endyear):    # users the isleapyear() \n",
    "    for year in range(startyear, endyear+1):\n",
    "        if isleapyear(year):\n",
    "            print(year, end=\" \")\n",
    "            \n",
    "    return\n",
    "\n",
    "generateleapyears(1954, 2020)\n"
   ]
  },
  {
   "cell_type": "code",
   "execution_count": 97,
   "metadata": {},
   "outputs": [
    {
     "data": {
      "text/plain": [
       "366"
      ]
     },
     "execution_count": 97,
     "metadata": {},
     "output_type": "execute_result"
    }
   ],
   "source": [
    "# Calculate number of days in a given time period\n",
    "# for evry year in the given time period, if the year is not a leap year -> add 365 to sum. If leap year\n",
    "\n",
    "def numberofdays(startyear, endyear):\n",
    "    sum = 0\n",
    "    for year in range(startyear, endyear+1):\n",
    "        if isleapyear(year):\n",
    "            sum = sum + 366\n",
    "        else:\n",
    "            sum = sum + 365\n",
    "    return sum\n",
    "#number of days in middle years of 2016, 2019\n",
    "\n",
    "numberofdays(2000, 2000)\n",
    "                \n"
   ]
  },
  {
   "cell_type": "code",
   "execution_count": null,
   "metadata": {},
   "outputs": [],
   "source": []
  },
  {
   "cell_type": "code",
   "execution_count": null,
   "metadata": {},
   "outputs": [],
   "source": [
    "# Function to print all numbers divisible by 6\n",
    "#and not a factor of 100 in a given range(lb, ub) inclusive\n",
    "\n",
    "\n"
   ]
  },
  {
   "cell_type": "code",
   "execution_count": 157,
   "metadata": {},
   "outputs": [
    {
     "ename": "TypeError",
     "evalue": "dayinstartyear() missing 2 required positional arguments: 'endmonth' and 'endyear'",
     "output_type": "error",
     "traceback": [
      "\u001b[1;31m---------------------------------------------------------------------------\u001b[0m",
      "\u001b[1;31mTypeError\u001b[0m                                 Traceback (most recent call last)",
      "\u001b[1;32m<ipython-input-157-d7549a09d44b>\u001b[0m in \u001b[0;36m<module>\u001b[1;34m\u001b[0m\n\u001b[0;32m     68\u001b[0m     \u001b[1;32mreturn\u001b[0m \u001b[1;36m24\u001b[0m \u001b[1;33m*\u001b[0m \u001b[0mdays\u001b[0m\u001b[1;33m\u001b[0m\u001b[1;33m\u001b[0m\u001b[0m\n\u001b[0;32m     69\u001b[0m \u001b[1;33m\u001b[0m\u001b[0m\n\u001b[1;32m---> 70\u001b[1;33m \u001b[0mdayinstartyear\u001b[0m\u001b[1;33m(\u001b[0m\u001b[1;36m6\u001b[0m\u001b[1;33m,\u001b[0m \u001b[1;36m2019\u001b[0m\u001b[1;33m)\u001b[0m\u001b[1;33m\u001b[0m\u001b[1;33m\u001b[0m\u001b[0m\n\u001b[0m\u001b[0;32m     71\u001b[0m \u001b[1;33m\u001b[0m\u001b[0m\n\u001b[0;32m     72\u001b[0m \u001b[1;33m\u001b[0m\u001b[0m\n",
      "\u001b[1;31mTypeError\u001b[0m: dayinstartyear() missing 2 required positional arguments: 'endmonth' and 'endyear'"
     ]
    }
   ],
   "source": [
    "# Function to claculate number of hours for a given period of the format(month1, yerar1, month2, year2)\n",
    "#numberofhours(11, 1975, 3, 1999) -> 204504 or 205248\n",
    "#numberofhours(5, 2019, 6, 2019) -> 1464 # may 31 day and june 30 days calculate 2 months\n",
    "# 2, 2007 , 6, 2019\n",
    "# [All days from feb 2016 to dec 2016,\n",
    "#.  All days for years between start and end,\n",
    "#    all days from Jan to June 2019]\n",
    "# No of hours = 24 * no of days\n",
    "# 3 steps\n",
    "  #1. Start month year to end of year - calculate no of  days\n",
    "  #2. Calculate days for all years between start year and end year\n",
    "         # 2017, 2018 - 365 * no of years\n",
    "  #3. Calculate days from Jan to end month year\n",
    "\n",
    "#Excluding feb\n",
    "# frist six months - 1, 3, 4, 5, 6\n",
    "                   # All odd months have 31 days\n",
    "                   # All even months have 30 days\n",
    "        \n",
    "# last six months - 8, 9, 10, 11, 12\n",
    "                   # All even months have 31 days\n",
    "                   # All odd months have 30 days\n",
    "\n",
    "# 31 days - (month <= 7 and month % 2 != 0 and month !=2) // (month >=8 and month%2==0):\n",
    "#            return 31\n",
    "    \n",
    "#       else\n",
    "#        return 30\n",
    "\n",
    "\n",
    "\n",
    "def numberofdaysmonth(month, year):\n",
    "    if month == 2:\n",
    "        if isleapyear(year):\n",
    "            return 29\n",
    "        return 28\n",
    "    elif(month <= 7 and month % 2!=0 )or(month >=8 and month%2==0):\n",
    "        return 31\n",
    "    else:\n",
    "        return 30\n",
    "    \n",
    "numberofdaysmonth(4, 2019)\n",
    "\n",
    "def dayinstartyear(startmonth, startyear):\n",
    "    days = 0 \n",
    "    for month in range(startmonth, 13):\n",
    "        days += numberofdaysmonth(month, startyear)\n",
    "\n",
    "        return days\n",
    "\n",
    "def dayinstartyear(endmonth, endyear):\n",
    "    days = 0\n",
    "    for month in range(1, endmonth+1):\n",
    "        days +=numberofdaysmonth(month, endyear)\n",
    "    return days\n",
    "\n",
    "def dayinstartyear(startmonth, startyear, endmonth, endyear):\n",
    "    days = 0\n",
    "    days += daystartyear(startmonth, startyear)\n",
    "    days += dayendyear(endmonth, endyear) \n",
    "    if endyear - startyear == 2:\n",
    "              \n",
    "        days += numberofdays(startyear+1, startyear+1)\n",
    "        \n",
    "    elif endyear - startyear > 2:\n",
    "        days += numberofdays(startyear+1, endyear-1)\n",
    "            \n",
    "    return 24 * days\n",
    "\n",
    "dayinstartyear(6, 2019)\n",
    "\n",
    "    \n",
    "    \n",
    "\n",
    "\n",
    "\n"
   ]
  },
  {
   "cell_type": "code",
   "execution_count": null,
   "metadata": {},
   "outputs": [],
   "source": []
  },
  {
   "cell_type": "code",
   "execution_count": null,
   "metadata": {},
   "outputs": [],
   "source": []
  }
 ],
 "metadata": {
  "kernelspec": {
   "display_name": "Python 3",
   "language": "python",
   "name": "python3"
  },
  "language_info": {
   "codemirror_mode": {
    "name": "ipython",
    "version": 3
   },
   "file_extension": ".py",
   "mimetype": "text/x-python",
   "name": "python",
   "nbconvert_exporter": "python",
   "pygments_lexer": "ipython3",
   "version": "3.7.3"
  }
 },
 "nbformat": 4,
 "nbformat_minor": 2
}
