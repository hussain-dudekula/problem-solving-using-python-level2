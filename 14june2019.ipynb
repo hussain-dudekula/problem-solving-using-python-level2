{
 "cells": [
  {
   "cell_type": "code",
   "execution_count": 3,
   "metadata": {},
   "outputs": [
    {
     "name": "stdout",
     "output_type": "stream",
     "text": [
      "enter value to print math table: 23\n",
      "enter the min range math table: 34\n",
      "enter the max range math table: 45\n",
      "23 * 34 = 23\n",
      "23 * 35 = 23\n",
      "23 * 36 = 23\n",
      "23 * 37 = 23\n",
      "23 * 38 = 23\n",
      "23 * 39 = 23\n",
      "23 * 40 = 23\n",
      "23 * 41 = 23\n",
      "23 * 42 = 23\n",
      "23 * 43 = 23\n",
      "23 * 44 = 23\n",
      "23 * 45 = 23\n"
     ]
    }
   ],
   "source": [
    "# Function to print multiplication table\n",
    "\n",
    "def mathtable(n, min, max):\n",
    "    for i in range(min, max+1):\n",
    "        print(n,'*',i,'=',n*1)\n",
    "        \n",
    "n = int(input(\"enter value to print math table: \"))\n",
    "min = int(input(\"enter the min range math table: \"))\n",
    "max = int(input(\"enter the max range math table: \"))\n",
    "\n",
    "mathtable(n,min,max)"
   ]
  },
  {
   "cell_type": "markdown",
   "metadata": {},
   "source": [
    "### problem solving and programming in python-Day4\n",
    "\n",
    "#### Date-14june2019\n",
    "\n",
    "- Day Objectives\n",
    "\n",
    "- Python Data Structure\n",
    "       1 lists\n",
    "       2 Tuples\n",
    "       3 Dictonaries\n",
    "- Basic Problem set on data structure\n",
    "- Advanced problem set\n",
    "- Packets and Modules in Python\n"
   ]
  },
  {
   "cell_type": "code",
   "execution_count": 15,
   "metadata": {},
   "outputs": [
    {
     "data": {
      "text/plain": [
       "123"
      ]
     },
     "execution_count": 15,
     "metadata": {},
     "output_type": "execute_result"
    }
   ],
   "source": [
    "li = [123, 978, 654]\n",
    "\n",
    "li # Access the entire list\n",
    "\n",
    "li[1] # Access an element with index in a list\n",
    "\n",
    "li[1:] # Access all elements from second element\n",
    "\n",
    "li[::-1]\n",
    "\n",
    "li\n",
    "\n",
    "li = li[::-1]\n",
    "\n",
    "li[::2] # Accessing even index elements\n",
    "\n",
    "li[1::2]             \n",
    "\n",
    "  # Lists can be accessed, manipulated in two different list\n",
    "          # Direct Referencing -> accessing to squarie brockets Ex [index]\n",
    "          #Indirect Referencing -> through functions\n",
    "            \n",
    "\n",
    "li.append(345)# adding an elemnet to end of the list\n",
    "\n",
    "li. insert(1, 234) #Adding an element at a particular position # puss is nothing but insert\n",
    "            \n",
    "li.sort() # soet elements in ascending order\n",
    "\n",
    "li.pop() # Remove the last element in a list\n",
    "li\n",
    "\n",
    "li.pop(1) #Remove an element at a particular index   \n",
    "\n",
    "\n",
    "li2 = [123, 456, 789]\n",
    "\n",
    "li.extend(li) # Merge list 2 into list 1\n",
    "\n",
    "sum(li) # Sum of all elemnets in a list\n",
    "max(li) # Maximun element in a list\n",
    "len(li) # number of element in a list\n",
    "\n",
    "sum(li)/len(li)  #Averege of list elements\n",
    "\n",
    "sum(li[::2])/len(li[1::2])  # Average of all alternate \n",
    "min(li)\n",
    "\n",
    "\n",
    "\n",
    "  "
   ]
  },
  {
   "cell_type": "code",
   "execution_count": 38,
   "metadata": {},
   "outputs": [
    {
     "data": {
      "text/plain": [
       "123"
      ]
     },
     "execution_count": 38,
     "metadata": {},
     "output_type": "execute_result"
    }
   ],
   "source": [
    "# Function to identify the second largest element in the list\n",
    "  # Sort the data and select the second last element\n",
    "  # Sort the data in reverse order, and  select the select data\n",
    "  # Remove the max element and then  get the max of the new list\n",
    "  # \n",
    "\n",
    "def secondlargest(li):\n",
    "    li.sort()\n",
    "    return li[-2]\n",
    "    \n",
    " # Function that returns the nth largest   \n",
    "def genericlargest(li, n):\n",
    "    li.sort()\n",
    "    return li[-n]\n",
    "    \n",
    "    \n",
    "secondlargest(li)\n",
    "genericlargest(li, 5)"
   ]
  },
  {
   "cell_type": "code",
   "execution_count": 57,
   "metadata": {},
   "outputs": [
    {
     "data": {
      "text/plain": [
       "-1"
      ]
     },
     "execution_count": 57,
     "metadata": {},
     "output_type": "execute_result"
    }
   ],
   "source": [
    "# Function to search for data in a list\n",
    "# Search for the key in the list and return the index of the key. Return -1 if key not found\n",
    "\n",
    "def linearsearch(li, key):\n",
    "    for value in range(0, len(li)):\n",
    "        if li[index] == key:\n",
    "            return index\n",
    "        return -1 \n",
    "    \n",
    "def linearsearch2(li, key):\n",
    "    for element in li:\n",
    "        if element == key:\n",
    "            return li.index(element)\n",
    "        return -1\n",
    "    \n",
    "def linearsearch3(li, key):\n",
    "    if key in li:\n",
    "        return li.index(key)\n",
    "    return -1\n",
    "    \n",
    "    \n",
    "linearsearch2(li, 789)\n",
    "#linearsearch(li, 234)\n",
    "    \n",
    "        \n"
   ]
  },
  {
   "cell_type": "code",
   "execution_count": 67,
   "metadata": {},
   "outputs": [
    {
     "data": {
      "text/plain": [
       "1"
      ]
     },
     "execution_count": 67,
     "metadata": {},
     "output_type": "execute_result"
    }
   ],
   "source": [
    "#Functon to count the occurances of a charater in a string\n",
    "# \"Python programming\", m -> 2\n",
    "\n",
    "def countcharoccurances(s, c):\n",
    "    count = 0\n",
    "    for ch in s:\n",
    "        if ch == c:\n",
    "            count += 1\n",
    "    return count\n",
    "        \n",
    "        \n",
    "def countcharoccurances2(s, c):\n",
    "    return s.count(c)\n",
    "\n",
    "countcharoccurances2(\"python programming\", 'py')\n",
    "\n",
    "# Function to find the number of occurances of this substring\n",
    "# \"abcabcddcba\", \"ab\" -> 2\n",
    "\n",
    "\n"
   ]
  },
  {
   "cell_type": "code",
   "execution_count": null,
   "metadata": {},
   "outputs": [],
   "source": []
  }
 ],
 "metadata": {
  "kernelspec": {
   "display_name": "Python 3",
   "language": "python",
   "name": "python3"
  }
 },
 "nbformat": 4,
 "nbformat_minor": 2
}
